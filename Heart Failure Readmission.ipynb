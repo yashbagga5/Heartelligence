{
 "cells": [
  {
   "cell_type": "code",
   "execution_count": 7,
   "id": "2a93d9a6-c15c-41a7-a4e8-9fb988f4d29a",
   "metadata": {},
   "outputs": [],
   "source": [
    "import pandas as pd\n",
    "import numpy as np\n",
    "from datetime import datetime, timedelta\n",
    "from sklearn.model_selection import train_test_split\n",
    "from sklearn.metrics import classification_report, roc_auc_score\n",
    "from xgboost import XGBClassifier\n"
   ]
  },
  {
   "cell_type": "code",
   "execution_count": 8,
   "id": "bc83ddc1-a618-413a-9e2f-b59f4ce3313a",
   "metadata": {},
   "outputs": [],
   "source": [
    "# Loadng the  CSVs\n",
    "base_path = r\"C:\\Users\\yashb\\Desktop\\Heart Failure Readmission Prediction\\mimic-iii-clinical-database-demo-1.4\\mimic-iii-clinical-database-demo-1.4\"\n",
    "\n",
    "admissions = pd.read_csv(base_path + \"/ADMISSIONS.csv\")\n",
    "diagnoses = pd.read_csv(base_path + \"/DIAGNOSES_ICD.csv\")\n",
    "patients = pd.read_csv(base_path + \"/PATIENTS.csv\")"
   ]
  },
  {
   "cell_type": "code",
   "execution_count": 9,
   "id": "9f0b90c9-5fc8-441b-8d10-518e3efd492c",
   "metadata": {},
   "outputs": [],
   "source": [
    "#  Filtering  for heart failure ICD-9 codes\n",
    "heart_failure_icd9 = {\n",
    "    '39891','40201','40211','40291','40401','40403','40411','40413',\n",
    "    '40491','40493','4280','4281','42820','42821','42822','42823',\n",
    "    '42830','42831','42832','42833','42840','42841','42842','42843','4289'\n",
    "}"
   ]
  },
  {
   "cell_type": "code",
   "execution_count": 10,
   "id": "06d24d4b-352c-4a2d-9e69-000ce043acab",
   "metadata": {},
   "outputs": [],
   "source": [
    "hf_diagnoses = diagnoses[diagnoses['icd9_code'].isin(heart_failure_icd9)]\n",
    "hf_admissions = pd.merge(hf_diagnoses, admissions, on=['subject_id', 'hadm_id'])\n"
   ]
  },
  {
   "cell_type": "code",
   "execution_count": 11,
   "id": "c3106fa8-9bf9-4242-b76c-d6cc3f54dc0f",
   "metadata": {},
   "outputs": [],
   "source": [
    "#  Converting the  date columns\n",
    "hf_admissions['admittime'] = pd.to_datetime(hf_admissions['admittime'])\n",
    "hf_admissions['dischtime'] = pd.to_datetime(hf_admissions['dischtime'])"
   ]
  },
  {
   "cell_type": "code",
   "execution_count": 12,
   "id": "f89a475a-fbb2-4021-8405-bb91fcc89de9",
   "metadata": {},
   "outputs": [],
   "source": [
    "#  Labeling the  readmission within 30 days\n",
    "hf_admissions = hf_admissions.sort_values(by=['subject_id', 'admittime'])\n",
    "\n",
    "hf_admissions['next_admit'] = hf_admissions.groupby('subject_id')['admittime'].shift(-1)\n",
    "hf_admissions['readmit_gap'] = (hf_admissions['next_admit'] - hf_admissions['dischtime']).dt.days\n",
    "hf_admissions['readmit_30d'] = hf_admissions['readmit_gap'].apply(lambda x: 1 if pd.notnull(x) and 0 < x <= 30 else 0)"
   ]
  },
  {
   "cell_type": "code",
   "execution_count": 13,
   "id": "ac8dad0c-8ac1-445f-81f6-c3d984a5085d",
   "metadata": {},
   "outputs": [],
   "source": [
    "#  Feature Engineering\n",
    "# And  Adding the  patient demographics\n",
    "patients['dob'] = pd.to_datetime(patients['dob'])\n",
    "hf_admissions = pd.merge(hf_admissions, patients[['subject_id', 'gender', 'dob']], on='subject_id', how='left')\n"
   ]
  },
  {
   "cell_type": "code",
   "execution_count": 14,
   "id": "075c38ca-90c7-49a0-8d20-1f454622f594",
   "metadata": {},
   "outputs": [],
   "source": [
    "# Convert to datetime with error coercion\n",
    "hf_admissions['admittime'] = pd.to_datetime(hf_admissions['admittime'], errors='coerce')\n",
    "hf_admissions['dob'] = pd.to_datetime(hf_admissions['dob'], errors='coerce')\n",
    "\n",
    "# Drop rows where date parsing failed\n",
    "hf_admissions = hf_admissions.dropna(subset=['admittime', 'dob'])\n",
    "\n",
    "# Define safe age calculation\n",
    "def safe_age(row):\n",
    "    try:\n",
    "        age = (row['admittime'] - row['dob']).days // 365\n",
    "        if 0 <= age <= 120:\n",
    "            return age\n",
    "    except:\n",
    "        pass\n",
    "    return None\n",
    "\n",
    "# Apply safe function row-wise\n",
    "hf_admissions['age'] = hf_admissions.apply(safe_age, axis=1)\n",
    "\n",
    "#  Drop rows where age couldn't be calculated\n",
    "hf_admissions = hf_admissions.dropna(subset=['age'])\n",
    "\n",
    "# Converting  age to integer\n",
    "hf_admissions['age'] = hf_admissions['age'].astype(int)\n"
   ]
  },
  {
   "cell_type": "code",
   "execution_count": 15,
   "id": "ac9df1e8-7507-4a67-a75c-d7e926ed3e94",
   "metadata": {},
   "outputs": [],
   "source": [
    "# Encode gender (robust)\n",
    "gender_col = [col for col in hf_admissions.columns if col.upper() == 'GENDER']\n",
    "if gender_col:\n",
    "    hf_admissions['gender'] = hf_admissions[gender_col[0]].map({'M': 1, 'F': 0})\n",
    "else:\n",
    "    raise KeyError(\"❌ 'GENDER' column not found after merging. Please verify column names.\")\n"
   ]
  },
  {
   "cell_type": "code",
   "execution_count": 16,
   "id": "1fd37f7b-abdb-4853-bb3c-6ced92c4543a",
   "metadata": {},
   "outputs": [],
   "source": [
    "# Normalizing the  column names to uppercase to prevent KeyErrors\n",
    "hf_admissions.columns = hf_admissions.columns.str.upper()\n"
   ]
  },
  {
   "cell_type": "code",
   "execution_count": 17,
   "id": "b013afa1-d368-43d6-a0fc-517b751d688f",
   "metadata": {},
   "outputs": [],
   "source": [
    "hf_admissions = hf_admissions.sort_values(by=['SUBJECT_ID', 'ADMITTIME'])\n"
   ]
  },
  {
   "cell_type": "code",
   "execution_count": 18,
   "id": "9b08148b-36ef-49ae-83d1-27ef773b0dd7",
   "metadata": {},
   "outputs": [],
   "source": [
    "hf_admissions['next_admit'] = hf_admissions.groupby('SUBJECT_ID')['ADMITTIME'].shift(-1)\n",
    "hf_admissions['days_to_next'] = (hf_admissions['next_admit'] - hf_admissions['DISCHTIME']).dt.days\n"
   ]
  },
  {
   "cell_type": "code",
   "execution_count": 19,
   "id": "18a72611-3d1b-4119-8f73-0aceb9d3807b",
   "metadata": {},
   "outputs": [],
   "source": [
    "hf_admissions['readmitted_30days'] = hf_admissions['days_to_next'].apply(\n",
    "    lambda x: 1 if pd.notna(x) and 0 <= x <= 30 else 0\n",
    ")\n"
   ]
  },
  {
   "cell_type": "code",
   "execution_count": 20,
   "id": "50017b8a-2b46-4986-9834-0e936ed3f80b",
   "metadata": {},
   "outputs": [],
   "source": [
    "model_data = hf_admissions[['SUBJECT_ID', 'HADM_ID', 'AGE', 'GENDER', 'ADMITTIME', 'DISCHTIME', 'readmitted_30days']]\n"
   ]
  },
  {
   "cell_type": "code",
   "execution_count": 21,
   "id": "80d34ab2-b3dc-4a99-a48d-f0c72825ad3f",
   "metadata": {},
   "outputs": [
    {
     "name": "stdout",
     "output_type": "stream",
     "text": [
      "✅ Data processing complete. Final shape: (58, 7)\n"
     ]
    }
   ],
   "source": [
    "#  Saving to CSV\n",
    "model_data.to_csv(\"heart_failure_readmissions_cleaned.csv\", index=False)\n",
    "\n",
    "print(\"✅ Data processing complete. Final shape:\", model_data.shape)"
   ]
  },
  {
   "cell_type": "code",
   "execution_count": 22,
   "id": "ce82de78-4fbe-4853-984a-dabe07f82ad9",
   "metadata": {},
   "outputs": [],
   "source": [
    "from sklearn.model_selection import train_test_split\n",
    "from sklearn.preprocessing import StandardScaler"
   ]
  },
  {
   "cell_type": "code",
   "execution_count": 23,
   "id": "6adb3cb0-6050-4bf7-b4a2-1ce11c81ea00",
   "metadata": {},
   "outputs": [],
   "source": [
    "X = model_data.drop(columns=['SUBJECT_ID', 'HADM_ID', 'ADMITTIME', 'DISCHTIME', 'readmitted_30days'])\n",
    "\n",
    "# Features and target\n",
    "y = model_data['readmitted_30days']\n",
    "\n",
    "# Split data\n",
    "X_train, X_test, y_train, y_test = train_test_split(X, y, test_size=0.2, random_state=42)\n",
    "\n",
    "# Scale features\n",
    "scaler = StandardScaler()\n",
    "X_train_scaled = scaler.fit_transform(X_train)\n",
    "X_test_scaled = scaler.transform(X_test)"
   ]
  },
  {
   "cell_type": "code",
   "execution_count": 24,
   "id": "6cc0baf3-f98e-41b7-94d7-4417e5e99ae6",
   "metadata": {},
   "outputs": [],
   "source": [
    "\n",
    "X = model_data.drop(columns=['SUBJECT_ID', 'HADM_ID', 'ADMITTIME', 'DISCHTIME', 'readmitted_30days'])\n",
    "\n",
    "\n",
    "y = model_data['readmitted_30days']\n",
    "\n",
    "\n",
    "X_train, X_test, y_train, y_test = train_test_split(X, y, test_size=0.2, random_state=42)\n",
    "\n",
    "\n",
    "scaler = StandardScaler()\n",
    "X_train_scaled = scaler.fit_transform(X_train)\n",
    "X_test_scaled = scaler.transform(X_test)"
   ]
  },
  {
   "cell_type": "code",
   "execution_count": 25,
   "id": "55f9d953-e903-4018-8c01-819bb9b87fdf",
   "metadata": {},
   "outputs": [],
   "source": [
    "from imblearn.over_sampling import SMOTE\n",
    "\n",
    "smote = SMOTE(random_state=42, k_neighbors=1)  # Reduced from 5 to 1\n",
    "X_resampled, y_resampled = smote.fit_resample(X, y)\n",
    "\n",
    "# Now split and proceed\n",
    "from sklearn.model_selection import train_test_split\n",
    "X_train, X_test, y_train, y_test = train_test_split(X_resampled, y_resampled, test_size=0.2, random_state=42)\n"
   ]
  },
  {
   "cell_type": "code",
   "execution_count": 26,
   "id": "68bc8fd8-ed0e-464f-9af0-3ee1d25c0695",
   "metadata": {},
   "outputs": [
    {
     "name": "stdout",
     "output_type": "stream",
     "text": [
      "Accuracy: 0.8636363636363636\n",
      "              precision    recall  f1-score   support\n",
      "\n",
      "           0       0.83      0.91      0.87        11\n",
      "           1       0.90      0.82      0.86        11\n",
      "\n",
      "    accuracy                           0.86        22\n",
      "   macro avg       0.87      0.86      0.86        22\n",
      "weighted avg       0.87      0.86      0.86        22\n",
      "\n",
      "Confusion Matrix:\n",
      " [[10  1]\n",
      " [ 2  9]]\n"
     ]
    }
   ],
   "source": [
    "#Random Forest\n",
    "from sklearn.ensemble import RandomForestClassifier\n",
    "from sklearn.metrics import accuracy_score, classification_report, confusion_matrix\n",
    "\n",
    "model = RandomForestClassifier(random_state=42)\n",
    "model.fit(X_train, y_train)\n",
    "y_pred = model.predict(X_test)\n",
    "\n",
    "print(\"Accuracy:\", accuracy_score(y_test, y_pred))\n",
    "print(classification_report(y_test, y_pred))\n",
    "print(\"Confusion Matrix:\\n\", confusion_matrix(y_test, y_pred))\n"
   ]
  },
  {
   "cell_type": "code",
   "execution_count": 21,
   "id": "6ebf1371-4e11-4fe1-80d4-59aabc551026",
   "metadata": {},
   "outputs": [
    {
     "data": {
      "image/png": "[encoded data removed]",
      "text/plain": [
       "<Figure size 640x480 with 2 Axes>"
      ]
     },
     "metadata": {},
     "output_type": "display_data"
    }
   ],
   "source": [
    "import seaborn as sns\n",
    "import matplotlib.pyplot as plt\n",
    "from sklearn.metrics import ConfusionMatrixDisplay\n",
    "\n",
    "cm = confusion_matrix(y_test, y_pred)\n",
    "sns.heatmap(cm, annot=True, fmt=\"d\", cmap=\"Blues\")\n",
    "plt.xlabel(\"Predicted\")\n",
    "plt.ylabel(\"Actual\")\n",
    "plt.title(\"Confusion Matrix\")\n",
    "plt.show()\n"
   ]
  },
  {
   "cell_type": "code",
   "execution_count": 22,
   "id": "be2404ba-31ba-4cdf-8c5c-5e7070b095c5",
   "metadata": {},
   "outputs": [
    {
     "data": {
      "image/png": "[encoded data removed]",
      "text/plain": [
       "<Figure size 640x480 with 1 Axes>"
      ]
     },
     "metadata": {},
     "output_type": "display_data"
    }
   ],
   "source": [
    "sns.countplot(x=y_resampled)\n",
    "plt.title(\"Balanced Target Distribution after SMOTE\")\n",
    "plt.xlabel(\"Readmitted in 30 Days\")\n",
    "plt.ylabel(\"Count\")\n",
    "plt.show()\n"
   ]
  },
  {
   "cell_type": "code",
   "execution_count": 23,
   "id": "563b7b73-d6cb-4354-9a00-78baa163473a",
   "metadata": {},
   "outputs": [],
   "source": [
    "import numpy as np\n",
    "import pandas as pd\n",
    "import matplotlib.pyplot as plt\n",
    "import seaborn as sns"
   ]
  },
  {
   "cell_type": "code",
   "execution_count": 24,
   "id": "6aa15c6a-1f05-4cca-bf77-b57f86835efc",
   "metadata": {},
   "outputs": [],
   "source": [
    "from sklearn.metrics import (\n",
    "    accuracy_score,\n",
    "    precision_score,\n",
    "    recall_score,\n",
    "    f1_score,\n",
    "    confusion_matrix,\n",
    "    roc_auc_score,\n",
    "    roc_curve,\n",
    "    classification_report\n",
    ")"
   ]
  },
  {
   "cell_type": "code",
   "execution_count": 25,
   "id": "14f0218b-7444-49c5-b65b-a89fcc645153",
   "metadata": {},
   "outputs": [],
   "source": [
    "# Predict\n",
    "y_pred = model.predict(X_test)\n",
    "y_proba = model.predict_proba(X_test)[:, 1]"
   ]
  },
  {
   "cell_type": "code",
   "execution_count": 26,
   "id": "a95257a1-ad75-49bf-a6c3-47f9dac5b672",
   "metadata": {},
   "outputs": [
    {
     "data": {
      "image/png": "[encoded data removed]",
      "text/plain": [
       "<Figure size 640x480 with 1 Axes>"
      ]
     },
     "metadata": {},
     "output_type": "display_data"
    }
   ],
   "source": [
    "# ROC Curve\n",
    "fpr, tpr, thresholds = roc_curve(y_test, y_proba)\n",
    "plt.figure()\n",
    "plt.plot(fpr, tpr, color='red', label='ROC Curve')\n",
    "plt.plot([0, 1], [0, 1], color='gray', linestyle='--')\n",
    "plt.xlabel(\"False Positive Rate\")\n",
    "plt.ylabel(\"True Positive Rate\")\n",
    "plt.title(\"ROC Curve\")\n",
    "plt.legend()\n",
    "plt.grid(True)\n",
    "plt.show()\n"
   ]
  },
  {
   "cell_type": "code",
   "execution_count": 27,
   "id": "ab8134e1-8f6d-447e-a00e-7c3c862efb15",
   "metadata": {},
   "outputs": [
    {
     "name": "stdout",
     "output_type": "stream",
     "text": [
      "Classification Report:\n",
      "                precision    recall  f1-score   support\n",
      "\n",
      "No Readmission       0.83      0.91      0.87        11\n",
      "   Readmission       0.90      0.82      0.86        11\n",
      "\n",
      "      accuracy                           0.86        22\n",
      "     macro avg       0.87      0.86      0.86        22\n",
      "  weighted avg       0.87      0.86      0.86        22\n",
      "\n"
     ]
    }
   ],
   "source": [
    "# Classification report\n",
    "print(\"Classification Report:\")\n",
    "print(classification_report(y_test, y_pred, target_names=[\"No Readmission\", \"Readmission\"]))"
   ]
  },
  {
   "cell_type": "code",
   "execution_count": 28,
   "id": "2e143041-9c2c-4119-bc6b-2742a6cc5466",
   "metadata": {},
   "outputs": [
    {
     "data": {
      "image/png": "[encoded data removed]",
      "text/plain": [
       "<Figure size 1000x600 with 1 Axes>"
      ]
     },
     "metadata": {},
     "output_type": "display_data"
    }
   ],
   "source": [
    "#Feature importance\n",
    "if hasattr(model, 'feature_importances_'):\n",
    "    importances = model.feature_importances_\n",
    "    feature_names = X_test.columns\n",
    "    feat_imp_df = pd.DataFrame({'Feature': feature_names, 'Importance': importances}).sort_values(by=\"Importance\", ascending=False)\n",
    "\n",
    "    plt.figure(figsize=(10, 6))\n",
    "    sns.barplot(x='Importance', y='Feature', data=feat_imp_df.head(20))\n",
    "    plt.title(\"Top 20 Feature Importances\")\n",
    "    plt.tight_layout()\n",
    "    plt.show()"
   ]
  },
  {
   "cell_type": "code",
   "execution_count": 29,
   "id": "3b8e04d4-6658-495a-988c-4c1c4f6df1b6",
   "metadata": {},
   "outputs": [],
   "source": [
    "def predict_readmission(new_data, model, feature_columns):\n",
    "    \"\"\"\n",
    "    Predict readmission for new patient data.\n",
    "    \n",
    "    Parameters:\n",
    "    - new_data: DataFrame containing new patient data\n",
    "    - model: trained model object\n",
    "    - feature_columns: list of columns used in training\n",
    "    \n",
    "    Returns:\n",
    "    - DataFrame with prediction and probability\n",
    "    \"\"\"\n",
    "    input_data = new_data[feature_columns]\n",
    "    prediction = model.predict(input_data)\n",
    "    probability = model.predict_proba(input_data)[:, 1]\n",
    "    \n",
    "    result = new_data.copy()\n",
    "    result['Readmission_Prediction'] = prediction\n",
    "    result['Readmission_Probability'] = probability\n",
    "    \n",
    "    return result\n"
   ]
  },
  {
   "cell_type": "code",
   "execution_count": null,
   "id": "bb75ee5e-21e0-433e-bc3f-92cf263755ff",
   "metadata": {},
   "outputs": [],
   "source": []
  }
 ],
 "metadata": {
  "kernelspec": {
   "display_name": "Python 3 (ipykernel)",
   "language": "python",
   "name": "python3"
  },
  "language_info": {
   "codemirror_mode": {
    "name": "ipython",
    "version": 3
   },
   "file_extension": ".py",
   "mimetype": "text/x-python",
   "name": "python",
   "nbconvert_exporter": "python",
   "pygments_lexer": "ipython3",
   "version": "3.13.1"
  }
 },
 "nbformat": 4,
 "nbformat_minor": 5
}
